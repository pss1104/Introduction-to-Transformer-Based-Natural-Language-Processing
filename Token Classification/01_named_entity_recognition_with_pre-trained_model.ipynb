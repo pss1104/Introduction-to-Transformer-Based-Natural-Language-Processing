{
 "cells": [
  {
   "cell_type": "markdown",
   "id": "6540b6ff",
   "metadata": {},
   "source": [
    "![DLI Header](images/DLI_Header.png)"
   ]
  },
  {
   "cell_type": "markdown",
   "id": "f1dc7a13",
   "metadata": {},
   "source": [
    "# Token Classification with Large Language Models #"
   ]
  },
  {
   "cell_type": "markdown",
   "id": "a8b5ef1f",
   "metadata": {},
   "source": [
    "## 01 - Named Entity Recognition with Pre-Trained Model ##\n",
    "\n",
    "In this notebook, you will learn to use a pre-trained token classification model. Specifically, we will use a model for named entity recognition. NER, also referred to as entity chunking, identification or extraction, is the task of detecting and classifying key information (entities) in text. In other words, a NER model takes a piece of text as input and for each word in the text, the model identifies a category the word belongs to. For example, in a sentence: `Mary lives in Santa Clara and works at NVIDIA`, the model should detect that `Mary` is a person, `Santa Clara` is a location and `NVIDIA` is a company.\n",
    "\n",
    "**Table of Contents**<br>\n",
    "This notebook covers the below sections: \n",
    "* Project Overview\n",
    "* Dataset\n",
    "    * Download and Preprocess data\n",
    "    * Labeling Data (OPTIONAL)\n",
    "* Use Pre-Trained Model\n",
    "    * Download Model\n",
    "    * Make Predictions\n",
    "    * Model Evaluation\n",
    "* Fine-Tune a Pre-Trained Model"
   ]
  },
  {
   "cell_type": "markdown",
   "id": "f86c38d2",
   "metadata": {},
   "source": [
    "## Project Overview ##\n",
    "\n",
    "<img src='images/workflow.png' width=1080>"
   ]
  },
  {
   "cell_type": "markdown",
   "id": "41a3f3bd",
   "metadata": {},
   "source": [
    "## Dataset ##\n",
    "For this notebook, we're going to use the [GMB (Groningen Meaning Bank)](http://www.let.rug.nl/bjerva/gmb/about.php) corpus for named entity recognition. GMB is a fairly large corpus with a lot of annotations. The data is labeled using the [IOB format](https://en.wikipedia.org/wiki/Inside%E2%80%93outside%E2%80%93beginning_(tagging)) (short for inside, outside, beginning), which means each annotation also needs a prefix of **I**, **O**, or **B**. \n",
    "\n",
    "The following classes appear in the dataset:\n",
    "* **LOC** - Geographical Entity\n",
    "* **ORG** - Organization\n",
    "* **PER** - Person\n",
    "* **GPE** - Geopolitical Entity\n",
    "* **TIME** - Time indicator\n",
    "* **ART** - Artifact\n",
    "* **EVE** - Event\n",
    "* **NAT** - Natural Phenomenon\n",
    "\n",
    "_Note:_ GMB is not completely human annotated, and it’s not considered 100% correct. For this exercise, classes **ART**, **EVE**, and **NAT** were combined into a **MISC** class due to small number of examples for these classes."
   ]
  },
  {
   "cell_type": "markdown",
   "id": "675e1697",
   "metadata": {},
   "source": [
    "For token classification tasks, NeMo requires the data to be in a specific format. Data needs to be split into  files: \n",
    "* `text.txt` and \n",
    "* `labels.txt`\n",
    "\n",
    "Each line of the **text.txt** file contains text sequences, where words are separated with spaces, i.e.: `[WORD] [SPACE] [WORD] [SPACE] [WORD]`. The **labels.txt** file contains corresponding labels for each word in **text.txt**, the labels are separated with spaces, i.e.: `[LABEL] [SPACE] [LABEL] [SPACE] [LABEL]`.\n",
    "\n",
    "For example: \n",
    "* **text.txt**\n",
    "```\n",
    "Jennifer is from New York City .\n",
    "She likes ...\n",
    "...\n",
    "```\n",
    "* **labels.txt**\n",
    "```\n",
    "B-PER O O B-LOC I-LOC I-LOC O\n",
    "O O ...\n",
    "...\n",
    "```"
   ]
  },
  {
   "cell_type": "markdown",
   "id": "67f8845f",
   "metadata": {},
   "source": [
    "### Download and Preprocess Data ###"
   ]
  },
  {
   "cell_type": "code",
   "execution_count": 1,
   "id": "9bc9c95e",
   "metadata": {
    "scrolled": true
   },
   "outputs": [],
   "source": [
    "import os\n",
    "import wget\n",
    "\n",
    "# set data path\n",
    "DATA_DIR=\"data/GMB\""
   ]
  },
  {
   "cell_type": "code",
   "execution_count": 2,
   "id": "edbc66a8",
   "metadata": {
    "scrolled": true
   },
   "outputs": [
    {
     "name": "stdout",
     "output_type": "stream",
     "text": [
      "total 11140\n",
      "-rw-r--r-- 1 root root      77 Jun 13 07:49 label_ids.csv\n",
      "-rw-r--r-- 1 root root  407442 Jun 13 07:49 labels_dev.txt\n",
      "-rw-r--r-- 1 root root 3169783 Jun 13 07:49 labels_train.txt\n",
      "-rw-r--r-- 1 root root  891020 Jun 13 07:49 text_dev.txt\n",
      "-rw-r--r-- 1 root root 6928251 Jun 13 07:49 text_train.txt\n"
     ]
    }
   ],
   "source": [
    "# check that data folder should contain 4 files\n",
    "!ls -l $DATA_DIR"
   ]
  },
  {
   "cell_type": "code",
   "execution_count": 3,
   "id": "6bcb9d12",
   "metadata": {
    "scrolled": true
   },
   "outputs": [
    {
     "name": "stdout",
     "output_type": "stream",
     "text": [
      "Text:\n",
      "New Zealand 's cricket team has scored a morale-boosting win over Bangladesh in the first of three one-day internationals in New Zealand .\n",
      "Despite Bangladesh 's highest total ever in a limited-overs match , the Kiwis were able to win the match by six wickets in Auckland .\n",
      "Opening batsman Jamie How led all scorers with 88 runs as New Zealand reached 203-4 in 42.1 overs .\n",
      "The score was in response to Bangladesh 's total of 201 all out in 46.3 overs .\n",
      "Mohammad Ashraful led the visitors with 70 runs , including 10 fours and one six on the short boundaries of the Eden Park ground .\n",
      "Labels:\n",
      "B-LOC I-LOC O O O O O O O O O B-LOC O O B-TIME I-TIME I-TIME I-TIME O O B-LOC I-LOC O\n",
      "O B-LOC O O O O O O O O O O B-GPE O O O O O O O O O O B-LOC O\n",
      "O O B-PER I-PER O O O O O O O B-LOC I-LOC O O O O O O\n",
      "O O O O O O B-LOC O O O O O O O O O O\n",
      "B-PER I-PER O O O O O O O O O O O O O O O O O O O B-LOC I-LOC O O\n"
     ]
    }
   ],
   "source": [
    "# preview data \n",
    "print('Text:')\n",
    "!head -n 5 {DATA_DIR}/text_train.txt\n",
    "\n",
    "print('Labels:')\n",
    "!head -n 5 {DATA_DIR}/labels_train.txt"
   ]
  },
  {
   "cell_type": "markdown",
   "id": "fbdd371b",
   "metadata": {},
   "source": [
    "### Labeling Data ###\n",
    "\n",
    "If you have raw data, NeMo recommends using the [Datasaur](https://datasaur.ai/) labeling platform to apply labels to data. Datasaur was designed specifically for labeling text data and supports basic NLP labeling tasks such as Named Entity Recognition and text classification through advanced NLP tasks such as dependency parsing and coreference resolution. You can sign up for Datasaur for free at https://datasaur.ai/sign-up/. Once you upload a file, you can choose from multiple NLP project types and use the Datasaur interface to label the data. After labeling, you can export the labeled data using the conll_2003 format, which integrates directly with NeMo. A video walkthrough can be found [here](https://www.youtube.com/watch?v=I9WVmnnSciE)."
   ]
  },
  {
   "cell_type": "markdown",
   "id": "5a5072ea",
   "metadata": {},
   "source": [
    "## Use Pre-Trained Model ##\n",
    "NeMo supports NER and other token-level classification tasks. These models typically comprise of a pre-trained [BERT](https://arxiv.org/pdf/1810.04805.pdf) model followed by a token classification layer. We start by using a pre-trained model. The `TokenClassificationModel` inherits from `NLPModel` and has the below methods: \n",
    "* `TokenClassificationModel.add_predictions()`\n",
    "* `TokenClassificationModel.evaluate_from_file()`\n",
    "\n",
    "These are useful when making inference and evaluating model performance. Additional functionality of the `TokenClassificationModel` can be found in the [source code](https://github.com/NVIDIA/NeMo/blob/main/nemo/collections/nlp/models/token_classification/token_classification_model.py). "
   ]
  },
  {
   "cell_type": "markdown",
   "id": "d3d01eaa",
   "metadata": {},
   "source": [
    "### Download Pre-Trained Model ###"
   ]
  },
  {
   "cell_type": "code",
   "execution_count": 4,
   "id": "a254ae50",
   "metadata": {
    "scrolled": true
   },
   "outputs": [
    {
     "name": "stdout",
     "output_type": "stream",
     "text": [
      "NOTE! Installing ujson may make loading annotations faster.\n",
      "PretrainedModelInfo(\n",
      "\tpretrained_model_name=ner_en_bert,\n",
      "\tdescription=The model was trained on GMB (Groningen Meaning Bank) corpus for entity recognition and achieves 74.61 F1 Macro score.,\n",
      "\tlocation=https://api.ngc.nvidia.com/v2/models/nvidia/nemo/ner_en_bert/versions/1.10/files/ner_en_bert.nemo\n",
      ")\n"
     ]
    }
   ],
   "source": [
    "# import dependencies\n",
    "from nemo.collections.nlp.models import TokenClassificationModel\n",
    "\n",
    "# list available pre-trained models\n",
    "for model in TokenClassificationModel.list_available_models():\n",
    "    print(model)"
   ]
  },
  {
   "cell_type": "markdown",
   "id": "58322f05",
   "metadata": {},
   "source": [
    "_Note:_ These are models trained for token classification. To get a list of all supported models, use `nemo.collections.nlp.modules.get_pretrained_lm_models_list(include_external=True)`. The list of pre-trained models is expected to change as they become available. "
   ]
  },
  {
   "cell_type": "code",
   "execution_count": 14,
   "id": "476b9250",
   "metadata": {
    "scrolled": true
   },
   "outputs": [
    {
     "name": "stdout",
     "output_type": "stream",
     "text": [
      "[NeMo I 2025-06-13 08:03:33 cloud:58] Found existing object /root/.cache/torch/NeMo/NeMo_1.20.0/ner_en_bert/8186f86c83b11d70b43b9ead695e7eda/ner_en_bert.nemo.\n",
      "[NeMo I 2025-06-13 08:03:33 cloud:64] Re-using file from: /root/.cache/torch/NeMo/NeMo_1.20.0/ner_en_bert/8186f86c83b11d70b43b9ead695e7eda/ner_en_bert.nemo\n",
      "[NeMo I 2025-06-13 08:03:33 common:913] Instantiating model from pre-trained checkpoint\n",
      "[NeMo I 2025-06-13 08:03:36 tokenizer_utils:130] Getting HuggingFace AutoTokenizer with pretrained_model_name: bert-base-uncased, vocab_file: /tmp/tmpf9obp7nu/tokenizer.vocab_file, merges_files: None, special_tokens_dict: {}, and use_fast: False\n"
     ]
    },
    {
     "name": "stderr",
     "output_type": "stream",
     "text": [
      "Using eos_token, but it is not set yet.\n",
      "Using bos_token, but it is not set yet.\n",
      "[NeMo W 2025-06-13 08:03:36 modelPT:244] You tried to register an artifact under config key=tokenizer.vocab_file but an artifact for it has already been registered.\n",
      "[NeMo W 2025-06-13 08:03:36 modelPT:161] If you intend to do training or fine-tuning, please call the ModelPT.setup_training_data() method and provide a valid configuration file to setup the train data loader.\n",
      "    Train config : \n",
      "    text_file: text_train.txt\n",
      "    labels_file: labels_train.txt\n",
      "    shuffle: true\n",
      "    num_samples: -1\n",
      "    batch_size: 64\n",
      "    \n",
      "[NeMo W 2025-06-13 08:03:36 modelPT:168] If you intend to do validation, please call the ModelPT.setup_validation_data() or ModelPT.setup_multiple_validation_data() method and provide a valid configuration file to setup the validation data loader(s). \n",
      "    Validation config : \n",
      "    text_file: text_dev.txt\n",
      "    labels_file: labels_dev.txt\n",
      "    shuffle: false\n",
      "    num_samples: -1\n",
      "    batch_size: 64\n",
      "    \n",
      "[NeMo W 2025-06-13 08:03:36 modelPT:174] Please call the ModelPT.setup_test_data() or ModelPT.setup_multiple_test_data() method and provide a valid configuration file to setup the test data loader(s).\n",
      "    Test config : \n",
      "    text_file: text_dev.txt\n",
      "    labels_file: labels_dev.txt\n",
      "    shuffle: false\n",
      "    num_samples: -1\n",
      "    batch_size: 64\n",
      "    \n",
      "[NeMo W 2025-06-13 08:03:38 modelPT:244] You tried to register an artifact under config key=language_model.config_file but an artifact for it has already been registered.\n"
     ]
    },
    {
     "name": "stdout",
     "output_type": "stream",
     "text": [
      "[NeMo I 2025-06-13 08:03:38 save_restore_connector:249] Model TokenClassificationModel was successfully restored from /root/.cache/torch/NeMo/NeMo_1.20.0/ner_en_bert/8186f86c83b11d70b43b9ead695e7eda/ner_en_bert.nemo.\n"
     ]
    }
   ],
   "source": [
    "# download and load the pre-trained BERT-based model\n",
    "pretrained_ner_model=TokenClassificationModel.from_pretrained(\"ner_en_bert\")"
   ]
  },
  {
   "cell_type": "markdown",
   "id": "7b3adff9",
   "metadata": {},
   "source": [
    "### Make Predictions ###"
   ]
  },
  {
   "cell_type": "code",
   "execution_count": 6,
   "id": "6c4b149b",
   "metadata": {
    "scrolled": true
   },
   "outputs": [
    {
     "name": "stdout",
     "output_type": "stream",
     "text": [
      "[NeMo I 2025-06-13 08:01:25 token_classification_dataset:123] Setting Max Seq length to: 17\n",
      "[NeMo I 2025-06-13 08:01:25 data_preprocessing:404] Some stats of the lengths of the sequences:\n",
      "[NeMo I 2025-06-13 08:01:25 data_preprocessing:406] Min: 9 |                  Max: 17 |                  Mean: 13.0 |                  Median: 13.0\n",
      "[NeMo I 2025-06-13 08:01:25 data_preprocessing:412] 75 percentile: 15.00\n",
      "[NeMo I 2025-06-13 08:01:25 data_preprocessing:413] 99 percentile: 16.92\n"
     ]
    },
    {
     "name": "stderr",
     "output_type": "stream",
     "text": [
      "[NeMo W 2025-06-13 08:01:25 token_classification_dataset:152] 0 are longer than 17\n"
     ]
    },
    {
     "name": "stdout",
     "output_type": "stream",
     "text": [
      "[NeMo I 2025-06-13 08:01:25 token_classification_dataset:155] *** Example ***\n",
      "[NeMo I 2025-06-13 08:01:25 token_classification_dataset:156] i: 0\n",
      "[NeMo I 2025-06-13 08:01:25 token_classification_dataset:157] subtokens: [CLS] we bought four shirts from the n ##vid ##ia gear store in santa clara . [SEP]\n",
      "[NeMo I 2025-06-13 08:01:25 token_classification_dataset:158] loss_mask: 1 1 1 1 1 1 1 1 1 1 1 1 1 1 1 1 1\n",
      "[NeMo I 2025-06-13 08:01:25 token_classification_dataset:159] input_mask: 1 1 1 1 1 1 1 1 1 1 1 1 1 1 1 1 1\n",
      "[NeMo I 2025-06-13 08:01:25 token_classification_dataset:160] subtokens_mask: 0 1 1 1 1 1 1 1 0 0 1 1 1 1 1 0 0\n",
      "Query : we bought four shirts from the nvidia gear store in santa clara.\n",
      "Result: we bought four shirts from the nvidia[B-ORG] gear store in santa[B-LOC] clara[I-LOC].\n",
      "\n",
      "\n",
      "Query : Nvidia is a company.\n",
      "Result: Nvidia[B-ORG] is a company.\n",
      "\n",
      "\n"
     ]
    }
   ],
   "source": [
    "# define the list of queries for inference\n",
    "queries=[\n",
    "    'we bought four shirts from the nvidia gear store in santa clara.',\n",
    "    'Nvidia is a company.',\n",
    "]\n",
    "\n",
    "# make sample predictions\n",
    "results=pretrained_ner_model.add_predictions(queries)\n",
    "\n",
    "# show predictions\n",
    "for query, result in zip(queries, results):\n",
    "    print(f'Query : {query}')\n",
    "    print(f'Result: {result.strip()}\\n')\n",
    "    print()"
   ]
  },
  {
   "cell_type": "markdown",
   "id": "9054ee36",
   "metadata": {},
   "source": [
    "### Evaluate Predictions ###\n",
    "\n",
    "To see how the model performs, we can generate predictions similar to the way we did it before and compare it with the labels. Alternatively, the `evaluate_from_file()` method enables us to evaluate the model given `text_file` and `labels_file`. Optionally, you can use the `add_confusion_matrix` to get a visual representation of the model performance. "
   ]
  },
  {
   "cell_type": "code",
   "execution_count": 7,
   "id": "9e1175f8",
   "metadata": {},
   "outputs": [],
   "source": [
    "# create a subset of our dev data\n",
    "!head -n 100 $DATA_DIR/text_dev.txt > $DATA_DIR/sample_text_dev.txt\n",
    "!head -n 100 $DATA_DIR/labels_dev.txt > $DATA_DIR/sample_labels_dev.txt"
   ]
  },
  {
   "cell_type": "markdown",
   "id": "ecfa541a",
   "metadata": {},
   "source": [
    "Now, let's generate predictions for the provided text file. If labels file is also specified, the model will evaluate the predictions and plot confusion matrix."
   ]
  },
  {
   "cell_type": "code",
   "execution_count": 8,
   "id": "1dc3866e",
   "metadata": {
    "scrolled": true
   },
   "outputs": [
    {
     "name": "stdout",
     "output_type": "stream",
     "text": [
      "[NeMo I 2025-06-13 08:01:26 token_classification_dataset:123] Setting Max Seq length to: 70\n",
      "[NeMo I 2025-06-13 08:01:26 data_preprocessing:404] Some stats of the lengths of the sequences:\n",
      "[NeMo I 2025-06-13 08:01:26 data_preprocessing:406] Min: 11 |                  Max: 70 |                  Mean: 26.9 |                  Median: 26.0\n",
      "[NeMo I 2025-06-13 08:01:26 data_preprocessing:412] 75 percentile: 33.00\n",
      "[NeMo I 2025-06-13 08:01:26 data_preprocessing:413] 99 percentile: 65.05\n"
     ]
    },
    {
     "name": "stderr",
     "output_type": "stream",
     "text": [
      "[NeMo W 2025-06-13 08:01:26 token_classification_dataset:152] 0 are longer than 70\n"
     ]
    },
    {
     "name": "stdout",
     "output_type": "stream",
     "text": [
      "[NeMo I 2025-06-13 08:01:26 token_classification_dataset:155] *** Example ***\n",
      "[NeMo I 2025-06-13 08:01:26 token_classification_dataset:156] i: 0\n",
      "[NeMo I 2025-06-13 08:01:26 token_classification_dataset:157] subtokens: [CLS] hamas refuses to recognize israel , and has vowed to undermine palestinian leader mahmoud abbas ' s efforts to make peace with the jewish state . [SEP]\n",
      "[NeMo I 2025-06-13 08:01:26 token_classification_dataset:158] loss_mask: 1 1 1 1 1 1 1 1 1 1 1 1 1 1 1 1 1 1 1 1 1 1 1 1 1 1 1 1 0 0 0 0 0 0 0 0 0 0 0 0 0 0 0 0 0 0 0 0 0 0 0 0 0 0 0 0 0 0 0 0 0 0 0 0 0 0 0 0 0 0\n",
      "[NeMo I 2025-06-13 08:01:26 token_classification_dataset:159] input_mask: 1 1 1 1 1 1 1 1 1 1 1 1 1 1 1 1 1 1 1 1 1 1 1 1 1 1 1 1 0 0 0 0 0 0 0 0 0 0 0 0 0 0 0 0 0 0 0 0 0 0 0 0 0 0 0 0 0 0 0 0 0 0 0 0 0 0 0 0 0 0\n",
      "[NeMo I 2025-06-13 08:01:26 token_classification_dataset:160] subtokens_mask: 0 1 1 1 1 1 1 1 1 1 1 1 1 1 1 1 1 0 1 1 1 1 1 1 1 1 1 0 0 0 0 0 0 0 0 0 0 0 0 0 0 0 0 0 0 0 0 0 0 0 0 0 0 0 0 0 0 0 0 0 0 0 0 0 0 0 0 0 0 0\n",
      "[NeMo I 2025-06-13 08:01:27 token_classification_model:464] Labels save to /dli/task/WORK_DIR/infer_sample_text_dev.txt\n",
      "[NeMo I 2025-06-13 08:01:27 token_classification_model:470] Predictions saved to /dli/task/WORK_DIR/infer_sample_text_dev.txt\n",
      "[NeMo I 2025-06-13 08:01:27 utils_funcs:109] Confusion matrix saved to /dli/task/WORK_DIR/Normalized_Confusion_matrix_20250613-080127\n",
      "[NeMo I 2025-06-13 08:01:27 token_classification_model:481]                        precision    recall  f1-score   support\n",
      "    \n",
      "          O (label id: 0)     0.9878    0.9895    0.9887      1805\n",
      "      B-GPE (label id: 1)     0.9429    1.0000    0.9706        33\n",
      "      B-LOC (label id: 2)     0.9103    0.9103    0.9103        78\n",
      "     B-MISC (label id: 3)     0.6667    1.0000    0.8000         2\n",
      "      B-ORG (label id: 4)     0.8431    0.7544    0.7963        57\n",
      "      B-PER (label id: 5)     0.8095    0.8644    0.8361        59\n",
      "     B-TIME (label id: 6)     0.8936    0.9130    0.9032        46\n",
      "      I-GPE (label id: 7)     1.0000    1.0000    1.0000         4\n",
      "      I-LOC (label id: 8)     0.8000    0.8889    0.8421         9\n",
      "     I-ORG (label id: 10)     0.8421    0.6809    0.7529        47\n",
      "     I-PER (label id: 11)     0.8305    0.8750    0.8522        56\n",
      "    I-TIME (label id: 12)     0.8462    0.8462    0.8462        13\n",
      "    \n",
      "                 accuracy                         0.9651      2209\n",
      "                macro avg     0.8644    0.8935    0.8749      2209\n",
      "             weighted avg     0.9650    0.9651    0.9647      2209\n",
      "    \n"
     ]
    },
    {
     "data": {
      "image/png": "[encoded data removed]",
      "text/plain": [
       "<Figure size 640x480 with 2 Axes>"
      ]
     },
     "metadata": {},
     "output_type": "display_data"
    }
   ],
   "source": [
    "WORK_DIR = \"WORK_DIR\"\n",
    "\n",
    "# evaluate model performance on sample\n",
    "pretrained_ner_model.evaluate_from_file(\n",
    "    text_file=os.path.join(DATA_DIR, 'sample_text_dev.txt'),\n",
    "    labels_file=os.path.join(DATA_DIR, 'sample_labels_dev.txt'),\n",
    "    output_dir=WORK_DIR,\n",
    "    add_confusion_matrix=True,\n",
    "    normalize_confusion_matrix=True,\n",
    "    batch_size=1\n",
    ")"
   ]
  },
  {
   "cell_type": "markdown",
   "id": "f96b6619",
   "metadata": {},
   "source": [
    "## Fine-Tune a Pre-Trained Model ##\n",
    "\n",
    "Without specifying configuration file, NeMo will use the default configurations for the model and trainer. When fine-tuning a pre-trained NER model, we need to setup training and evaluation data before training, the dataset directory is the only required argument if the files names are `labels_dev.txt`, `labels_train.txt`, `text_dev.txt`, and `text_train.txt`. "
   ]
  },
  {
   "cell_type": "code",
   "execution_count": 9,
   "id": "1bd3cb99",
   "metadata": {
    "scrolled": true
   },
   "outputs": [
    {
     "name": "stdout",
     "output_type": "stream",
     "text": [
      "[NeMo I 2025-06-13 08:01:27 token_classification_model:84] Setting model.dataset.data_dir to data/GMB.\n",
      "[NeMo I 2025-06-13 08:01:27 token_classification_utils:118] Processing data/GMB/labels_train.txt\n",
      "[NeMo I 2025-06-13 08:01:28 token_classification_utils:138] Using provided labels mapping {'O': 0, 'B-GPE': 1, 'B-LOC': 2, 'B-MISC': 3, 'B-ORG': 4, 'B-PER': 5, 'B-TIME': 6, 'I-GPE': 7, 'I-LOC': 8, 'I-MISC': 9, 'I-ORG': 10, 'I-PER': 11, 'I-TIME': 12}\n",
      "[NeMo I 2025-06-13 08:01:28 token_classification_utils:154] Labels mapping {'O': 0, 'B-GPE': 1, 'B-LOC': 2, 'B-MISC': 3, 'B-ORG': 4, 'B-PER': 5, 'B-TIME': 6, 'I-GPE': 7, 'I-LOC': 8, 'I-MISC': 9, 'I-ORG': 10, 'I-PER': 11, 'I-TIME': 12} saved to : data/GMB/label_ids.csv\n",
      "[NeMo I 2025-06-13 08:01:42 token_classification_utils:163] Three most popular labels in data/GMB/labels_train.txt:\n",
      "[NeMo I 2025-06-13 08:01:42 data_preprocessing:194] label: 0, 1014899 out of 1199472 (84.61%).\n",
      "[NeMo I 2025-06-13 08:01:42 data_preprocessing:194] label: 2, 43529 out of 1199472 (3.63%).\n",
      "[NeMo I 2025-06-13 08:01:42 data_preprocessing:194] label: 6, 23321 out of 1199472 (1.94%).\n",
      "[NeMo I 2025-06-13 08:01:42 token_classification_utils:165] Total labels: 1199472. Label frequencies - {0: 1014899, 2: 43529, 6: 23321, 4: 23215, 11: 19583, 10: 19515, 5: 19407, 1: 18074, 8: 8482, 12: 7555, 3: 1002, 9: 669, 7: 221}\n",
      "[NeMo I 2025-06-13 08:01:42 token_classification_utils:174] Class Weights: {0: 0.09091257053468071, 2: 2.119669115373129, 6: 3.956394533814027, 4: 3.9744594840868803, 11: 4.711590508250877, 10: 4.728008041151777, 5: 4.75431941686386, 1: 5.104961653373737, 8: 10.877985961221047, 12: 12.21271699842183, 3: 92.08291110087518, 9: 137.91790272507762, 7: 417.49808562478245}\n",
      "[NeMo I 2025-06-13 08:01:42 token_classification_utils:178] Class weights saved to data/GMB/labels_train_weights.p\n",
      "[NeMo I 2025-06-13 08:03:13 token_classification_dataset:123] Setting Max Seq length to: 128\n",
      "[NeMo I 2025-06-13 08:03:13 data_preprocessing:404] Some stats of the lengths of the sequences:\n",
      "[NeMo I 2025-06-13 08:03:13 data_preprocessing:406] Min: 3 |                  Max: 146 |                  Mean: 26.479218181818183 |                  Median: 26.0\n",
      "[NeMo I 2025-06-13 08:03:13 data_preprocessing:412] 75 percentile: 32.00\n",
      "[NeMo I 2025-06-13 08:03:13 data_preprocessing:413] 99 percentile: 51.00\n"
     ]
    },
    {
     "name": "stderr",
     "output_type": "stream",
     "text": [
      "[NeMo W 2025-06-13 08:03:15 token_classification_dataset:152] 1 are longer than 128\n"
     ]
    },
    {
     "name": "stdout",
     "output_type": "stream",
     "text": [
      "[NeMo I 2025-06-13 08:03:15 token_classification_dataset:155] *** Example ***\n",
      "[NeMo I 2025-06-13 08:03:15 token_classification_dataset:156] i: 0\n",
      "[NeMo I 2025-06-13 08:03:15 token_classification_dataset:157] subtokens: [CLS] new zealand ' s cricket team has scored a morale - boost ##ing win over bangladesh in the first of three one - day internationals in new zealand . [SEP]\n",
      "[NeMo I 2025-06-13 08:03:15 token_classification_dataset:158] loss_mask: 1 1 1 1 1 1 1 1 1 1 1 1 1 1 1 1 1 1 1 1 1 1 1 1 1 1 1 1 1 1 1 0 0 0 0 0 0 0 0 0 0 0 0 0 0 0 0 0 0 0 0 0 0 0 0 0 0 0 0 0 0 0 0 0 0 0 0 0 0 0 0 0 0 0 0 0 0 0 0 0 0 0 0 0 0 0 0 0 0 0 0 0 0 0 0 0 0 0 0 0 0 0 0 0 0 0 0 0 0 0 0 0 0 0 0 0 0 0 0 0 0 0 0 0 0 0 0 0\n",
      "[NeMo I 2025-06-13 08:03:15 token_classification_dataset:159] input_mask: 1 1 1 1 1 1 1 1 1 1 1 1 1 1 1 1 1 1 1 1 1 1 1 1 1 1 1 1 1 1 1 0 0 0 0 0 0 0 0 0 0 0 0 0 0 0 0 0 0 0 0 0 0 0 0 0 0 0 0 0 0 0 0 0 0 0 0 0 0 0 0 0 0 0 0 0 0 0 0 0 0 0 0 0 0 0 0 0 0 0 0 0 0 0 0 0 0 0 0 0 0 0 0 0 0 0 0 0 0 0 0 0 0 0 0 0 0 0 0 0 0 0 0 0 0 0 0 0\n",
      "[NeMo I 2025-06-13 08:03:15 token_classification_dataset:160] subtokens_mask: 0 1 1 1 0 1 1 1 1 1 1 0 0 0 1 1 1 1 1 1 1 1 1 0 0 1 1 1 1 1 0 0 0 0 0 0 0 0 0 0 0 0 0 0 0 0 0 0 0 0 0 0 0 0 0 0 0 0 0 0 0 0 0 0 0 0 0 0 0 0 0 0 0 0 0 0 0 0 0 0 0 0 0 0 0 0 0 0 0 0 0 0 0 0 0 0 0 0 0 0 0 0 0 0 0 0 0 0 0 0 0 0 0 0 0 0 0 0 0 0 0 0 0 0 0 0 0 0\n",
      "[NeMo I 2025-06-13 08:03:15 token_classification_dataset:162] labels: 0 2 8 0 0 0 0 0 0 0 0 0 0 0 0 0 2 0 0 6 12 12 12 12 12 0 0 2 8 0 0 0 0 0 0 0 0 0 0 0 0 0 0 0 0 0 0 0 0 0 0 0 0 0 0 0 0 0 0 0 0 0 0 0 0 0 0 0 0 0 0 0 0 0 0 0 0 0 0 0 0 0 0 0 0 0 0 0 0 0 0 0 0 0 0 0 0 0 0 0 0 0 0 0 0 0 0 0 0 0 0 0 0 0 0 0 0 0 0 0 0 0 0 0 0 0 0 0\n",
      "[NeMo I 2025-06-13 08:03:16 token_classification_dataset:278] features saved to data/GMB/cached__text_train.txt__labels_train.txt__BertTokenizer_128_30522_-1\n",
      "[NeMo I 2025-06-13 08:03:16 token_classification_utils:118] Processing data/GMB/labels_dev.txt\n",
      "[NeMo I 2025-06-13 08:03:16 token_classification_utils:138] Using provided labels mapping {'O': 0, 'B-GPE': 1, 'B-LOC': 2, 'B-MISC': 3, 'B-ORG': 4, 'B-PER': 5, 'B-TIME': 6, 'I-GPE': 7, 'I-LOC': 8, 'I-MISC': 9, 'I-ORG': 10, 'I-PER': 11, 'I-TIME': 12}\n",
      "[NeMo I 2025-06-13 08:03:18 token_classification_utils:163] Three most popular labels in data/GMB/labels_dev.txt:\n",
      "[NeMo I 2025-06-13 08:03:18 data_preprocessing:194] label: 0, 131141 out of 154648 (84.80%).\n",
      "[NeMo I 2025-06-13 08:03:18 data_preprocessing:194] label: 2, 5346 out of 154648 (3.46%).\n",
      "[NeMo I 2025-06-13 08:03:18 data_preprocessing:194] label: 4, 2980 out of 154648 (1.93%).\n",
      "[NeMo I 2025-06-13 08:03:18 token_classification_utils:165] Total labels: 154648. Label frequencies - {0: 131141, 2: 5346, 4: 2980, 6: 2975, 11: 2687, 5: 2577, 10: 2384, 1: 2362, 8: 1030, 12: 938, 3: 130, 9: 75, 7: 23}\n",
      "[NeMo I 2025-06-13 08:03:29 token_classification_dataset:123] Setting Max Seq length to: 79\n",
      "[NeMo I 2025-06-13 08:03:29 data_preprocessing:404] Some stats of the lengths of the sequences:\n",
      "[NeMo I 2025-06-13 08:03:29 data_preprocessing:406] Min: 5 |                  Max: 79 |                  Mean: 26.730346697103723 |                  Median: 26.0\n",
      "[NeMo I 2025-06-13 08:03:29 data_preprocessing:412] 75 percentile: 33.00\n",
      "[NeMo I 2025-06-13 08:03:29 data_preprocessing:413] 99 percentile: 51.00\n"
     ]
    },
    {
     "name": "stderr",
     "output_type": "stream",
     "text": [
      "[NeMo W 2025-06-13 08:03:30 token_classification_dataset:152] 0 are longer than 79\n"
     ]
    },
    {
     "name": "stdout",
     "output_type": "stream",
     "text": [
      "[NeMo I 2025-06-13 08:03:30 token_classification_dataset:155] *** Example ***\n",
      "[NeMo I 2025-06-13 08:03:30 token_classification_dataset:156] i: 0\n",
      "[NeMo I 2025-06-13 08:03:30 token_classification_dataset:157] subtokens: [CLS] hamas refuses to recognize israel , and has vowed to undermine palestinian leader mahmoud abbas ' s efforts to make peace with the jewish state . [SEP]\n",
      "[NeMo I 2025-06-13 08:03:30 token_classification_dataset:158] loss_mask: 1 1 1 1 1 1 1 1 1 1 1 1 1 1 1 1 1 1 1 1 1 1 1 1 1 1 1 1 0 0 0 0 0 0 0 0 0 0 0 0 0 0 0 0 0 0 0 0 0 0 0 0 0 0 0 0 0 0 0 0 0 0 0 0 0 0 0 0 0 0 0 0 0 0 0 0 0 0 0\n",
      "[NeMo I 2025-06-13 08:03:30 token_classification_dataset:159] input_mask: 1 1 1 1 1 1 1 1 1 1 1 1 1 1 1 1 1 1 1 1 1 1 1 1 1 1 1 1 0 0 0 0 0 0 0 0 0 0 0 0 0 0 0 0 0 0 0 0 0 0 0 0 0 0 0 0 0 0 0 0 0 0 0 0 0 0 0 0 0 0 0 0 0 0 0 0 0 0 0\n",
      "[NeMo I 2025-06-13 08:03:30 token_classification_dataset:160] subtokens_mask: 0 1 1 1 1 1 1 1 1 1 1 1 1 1 1 1 1 0 1 1 1 1 1 1 1 1 1 0 0 0 0 0 0 0 0 0 0 0 0 0 0 0 0 0 0 0 0 0 0 0 0 0 0 0 0 0 0 0 0 0 0 0 0 0 0 0 0 0 0 0 0 0 0 0 0 0 0 0 0\n",
      "[NeMo I 2025-06-13 08:03:30 token_classification_dataset:162] labels: 0 4 0 0 0 2 0 0 0 0 0 0 1 0 5 11 0 0 0 0 0 0 0 0 0 0 0 0 0 0 0 0 0 0 0 0 0 0 0 0 0 0 0 0 0 0 0 0 0 0 0 0 0 0 0 0 0 0 0 0 0 0 0 0 0 0 0 0 0 0 0 0 0 0 0 0 0 0 0\n",
      "[NeMo I 2025-06-13 08:03:30 token_classification_dataset:278] features saved to data/GMB/cached__text_dev.txt__labels_dev.txt__BertTokenizer_128_30522_-1\n"
     ]
    }
   ],
   "source": [
    "import pytorch_lightning as pl\n",
    "\n",
    "# setup the data dir to get class weights statistics\n",
    "pretrained_ner_model.update_data_dir(DATA_DIR)\n",
    "\n",
    "# setup train and validation Pytorch DataLoaders\n",
    "pretrained_ner_model.setup_training_data()\n",
    "pretrained_ner_model.setup_validation_data()"
   ]
  },
  {
   "cell_type": "code",
   "execution_count": 10,
   "id": "89db920e",
   "metadata": {},
   "outputs": [
    {
     "data": {
      "text/plain": [
       "CrossEntropyLoss()"
      ]
     },
     "execution_count": 10,
     "metadata": {},
     "output_type": "execute_result"
    }
   ],
   "source": [
    "# set up loss\n",
    "pretrained_ner_model.setup_loss()"
   ]
  },
  {
   "cell_type": "markdown",
   "id": "55f301c8",
   "metadata": {},
   "source": [
    "_Note:_ Use `class_balancing='weighted_loss'` if you want to add class weights to the `CrossEntropyLoss`. "
   ]
  },
  {
   "cell_type": "code",
   "execution_count": 11,
   "id": "d385a2c9",
   "metadata": {
    "scrolled": true
   },
   "outputs": [
    {
     "name": "stderr",
     "output_type": "stream",
     "text": [
      "GPU available: True (cuda), used: True\n",
      "TPU available: False, using: 0 TPU cores\n",
      "IPU available: False, using: 0 IPUs\n",
      "HPU available: False, using: 0 HPUs\n",
      "Running in `fast_dev_run` mode: will run the requested loop using 1 batch(es). Logging and checkpointing is suppressed.\n",
      "LOCAL_RANK: 0 - CUDA_VISIBLE_DEVICES: [0]\n"
     ]
    },
    {
     "name": "stdout",
     "output_type": "stream",
     "text": [
      "[NeMo I 2025-06-13 08:03:30 modelPT:721] Optimizer config = Adam (\n",
      "    Parameter Group 0\n",
      "        amsgrad: False\n",
      "        betas: (0.9, 0.999)\n",
      "        capturable: False\n",
      "        differentiable: False\n",
      "        eps: 1e-08\n",
      "        foreach: None\n",
      "        fused: None\n",
      "        lr: 5e-05\n",
      "        maximize: False\n",
      "        weight_decay: 0.0\n",
      "    )\n",
      "[NeMo I 2025-06-13 08:03:30 lr_scheduler:910] Scheduler \"<nemo.core.optim.lr_scheduler.WarmupAnnealing object at 0x7f471beb8fd0>\" \n",
      "    will be used during training (effective maximum steps = 1) - \n",
      "    Parameters : \n",
      "    (warmup_steps: null\n",
      "    warmup_ratio: 0.1\n",
      "    last_epoch: -1\n",
      "    max_steps: 1\n",
      "    )\n"
     ]
    },
    {
     "name": "stderr",
     "output_type": "stream",
     "text": [
      "\n",
      "  | Name                  | Type                 | Params\n",
      "---------------------------------------------------------------\n",
      "0 | bert_model            | BertEncoder          | 109 M \n",
      "1 | classifier            | TokenClassifier      | 600 K \n",
      "2 | loss                  | CrossEntropyLoss     | 0     \n",
      "3 | classification_report | ClassificationReport | 0     \n",
      "---------------------------------------------------------------\n",
      "110 M     Trainable params\n",
      "0         Non-trainable params\n",
      "110 M     Total params\n",
      "440.331   Total estimated model params size (MB)\n",
      "[NeMo W 2025-06-13 08:03:30 nemo_logging:349] /usr/local/lib/python3.10/dist-packages/pytorch_lightning/trainer/connectors/data_connector.py:224: PossibleUserWarning: The dataloader, train_dataloader, does not have many workers which may be a bottleneck. Consider increasing the value of the `num_workers` argument` (try 16 which is the number of cpus on this machine) in the `DataLoader` init to improve performance.\n",
      "      rank_zero_warn(\n",
      "    \n",
      "[NeMo W 2025-06-13 08:03:30 nemo_logging:349] /usr/local/lib/python3.10/dist-packages/pytorch_lightning/trainer/trainer.py:1609: PossibleUserWarning: The number of training batches (1) is smaller than the logging interval Trainer(log_every_n_steps=50). Set a lower value for log_every_n_steps if you want to see logs for the training epoch.\n",
      "      rank_zero_warn(\n",
      "    \n",
      "[NeMo W 2025-06-13 08:03:30 nemo_logging:349] /usr/local/lib/python3.10/dist-packages/pytorch_lightning/trainer/connectors/data_connector.py:224: PossibleUserWarning: The dataloader, val_dataloader 0, does not have many workers which may be a bottleneck. Consider increasing the value of the `num_workers` argument` (try 16 which is the number of cpus on this machine) in the `DataLoader` init to improve performance.\n",
      "      rank_zero_warn(\n",
      "    \n"
     ]
    },
    {
     "data": {
      "application/vnd.jupyter.widget-view+json": {
       "model_id": "ec1bde72c3a04ecca5644ed9f1d38252",
       "version_major": 2,
       "version_minor": 0
      },
      "text/plain": [
       "Training: 0it [00:00, ?it/s]"
      ]
     },
     "metadata": {},
     "output_type": "display_data"
    },
    {
     "data": {
      "application/vnd.jupyter.widget-view+json": {
       "model_id": "786a529f0f67490ebbf91089a8f776af",
       "version_major": 2,
       "version_minor": 0
      },
      "text/plain": [
       "Validation: 0it [00:00, ?it/s]"
      ]
     },
     "metadata": {},
     "output_type": "display_data"
    },
    {
     "name": "stdout",
     "output_type": "stream",
     "text": [
      "[NeMo I 2025-06-13 08:03:30 token_classification_model:159] \n",
      "    label                                                precision    recall       f1           support   \n",
      "    O (label_id: 0)                                         98.63      99.57      99.10       1161\n",
      "    B-GPE (label_id: 1)                                     90.91     100.00      95.24         20\n",
      "    B-LOC (label_id: 2)                                     86.00      97.73      91.49         44\n",
      "    B-MISC (label_id: 3)                                   100.00     100.00     100.00          2\n",
      "    B-ORG (label_id: 4)                                     83.33      68.18      75.00         44\n",
      "    B-PER (label_id: 5)                                     81.25      86.67      83.87         45\n",
      "    B-TIME (label_id: 6)                                    95.65      95.65      95.65         23\n",
      "    I-GPE (label_id: 7)                                    100.00     100.00     100.00          4\n",
      "    I-LOC (label_id: 8)                                     75.00      60.00      66.67          5\n",
      "    I-MISC (label_id: 9)                                     0.00       0.00       0.00          0\n",
      "    I-ORG (label_id: 10)                                    86.36      63.33      73.08         30\n",
      "    I-PER (label_id: 11)                                    91.67      80.49      85.71         41\n",
      "    I-TIME (label_id: 12)                                  100.00     100.00     100.00          7\n",
      "    -------------------\n",
      "    micro avg                                               96.63      96.63      96.63       1426\n",
      "    macro avg                                               90.73      87.63      88.82       1426\n",
      "    weighted avg                                            96.54      96.63      96.49       1426\n",
      "    \n"
     ]
    },
    {
     "name": "stderr",
     "output_type": "stream",
     "text": [
      "`Trainer.fit` stopped: `max_steps=1` reached.\n"
     ]
    }
   ],
   "source": [
    "# create a PyTorch Lightning trainer and call `fit` again\n",
    "fast_dev_run=True\n",
    "trainer=pl.Trainer(devices=1, accelerator='gpu', fast_dev_run=fast_dev_run)\n",
    "trainer.fit(pretrained_ner_model)"
   ]
  },
  {
   "cell_type": "markdown",
   "id": "6ecf7cc7",
   "metadata": {},
   "source": [
    "_Note:_ When training a model, we can set up the model (and trainer) using a configuration file. This is not needed since the task we are performing is the same as the pre-trained model. We will train a custom token classification model in the next notebook, which will require using a configuration file. Furthermore, we are setting `fast_dev_run` to `True` for this demonstration so the trainer will run 1 training batch and 1 validation batch. For actual model training, disable the flag. "
   ]
  },
  {
   "cell_type": "code",
   "execution_count": 12,
   "id": "e8e99e7e",
   "metadata": {
    "scrolled": true
   },
   "outputs": [
    {
     "name": "stdout",
     "output_type": "stream",
     "text": [
      "[NeMo I 2025-06-13 08:03:31 token_classification_dataset:123] Setting Max Seq length to: 70\n",
      "[NeMo I 2025-06-13 08:03:31 data_preprocessing:404] Some stats of the lengths of the sequences:\n",
      "[NeMo I 2025-06-13 08:03:31 data_preprocessing:406] Min: 11 |                  Max: 70 |                  Mean: 26.9 |                  Median: 26.0\n",
      "[NeMo I 2025-06-13 08:03:31 data_preprocessing:412] 75 percentile: 33.00\n",
      "[NeMo I 2025-06-13 08:03:31 data_preprocessing:413] 99 percentile: 65.05\n"
     ]
    },
    {
     "name": "stderr",
     "output_type": "stream",
     "text": [
      "[NeMo W 2025-06-13 08:03:31 token_classification_dataset:152] 0 are longer than 70\n"
     ]
    },
    {
     "name": "stdout",
     "output_type": "stream",
     "text": [
      "[NeMo I 2025-06-13 08:03:31 token_classification_dataset:155] *** Example ***\n",
      "[NeMo I 2025-06-13 08:03:31 token_classification_dataset:156] i: 0\n",
      "[NeMo I 2025-06-13 08:03:31 token_classification_dataset:157] subtokens: [CLS] hamas refuses to recognize israel , and has vowed to undermine palestinian leader mahmoud abbas ' s efforts to make peace with the jewish state . [SEP]\n",
      "[NeMo I 2025-06-13 08:03:31 token_classification_dataset:158] loss_mask: 1 1 1 1 1 1 1 1 1 1 1 1 1 1 1 1 1 1 1 1 1 1 1 1 1 1 1 1 0 0 0 0 0 0 0 0 0 0 0 0 0 0 0 0 0 0 0 0 0 0 0 0 0 0 0 0 0 0 0 0 0 0 0 0 0 0 0 0 0 0\n",
      "[NeMo I 2025-06-13 08:03:31 token_classification_dataset:159] input_mask: 1 1 1 1 1 1 1 1 1 1 1 1 1 1 1 1 1 1 1 1 1 1 1 1 1 1 1 1 0 0 0 0 0 0 0 0 0 0 0 0 0 0 0 0 0 0 0 0 0 0 0 0 0 0 0 0 0 0 0 0 0 0 0 0 0 0 0 0 0 0\n",
      "[NeMo I 2025-06-13 08:03:31 token_classification_dataset:160] subtokens_mask: 0 1 1 1 1 1 1 1 1 1 1 1 1 1 1 1 1 0 1 1 1 1 1 1 1 1 1 0 0 0 0 0 0 0 0 0 0 0 0 0 0 0 0 0 0 0 0 0 0 0 0 0 0 0 0 0 0 0 0 0 0 0 0 0 0 0 0 0 0 0\n",
      "[NeMo I 2025-06-13 08:03:32 token_classification_model:464] Labels save to /dli/task/WORK_DIR/infer_sample_text_dev.txt\n",
      "[NeMo I 2025-06-13 08:03:32 token_classification_model:470] Predictions saved to /dli/task/WORK_DIR/infer_sample_text_dev.txt\n",
      "[NeMo I 2025-06-13 08:03:33 utils_funcs:109] Confusion matrix saved to /dli/task/WORK_DIR/Normalized_Confusion_matrix_20250613-080332\n",
      "[NeMo I 2025-06-13 08:03:33 token_classification_model:481]                        precision    recall  f1-score   support\n",
      "    \n",
      "          O (label id: 0)     0.9851    0.9922    0.9887      1805\n",
      "      B-GPE (label id: 1)     0.9429    1.0000    0.9706        33\n",
      "      B-LOC (label id: 2)     0.8941    0.9744    0.9325        78\n",
      "     B-MISC (label id: 3)     1.0000    1.0000    1.0000         2\n",
      "      B-ORG (label id: 4)     0.8478    0.6842    0.7573        57\n",
      "      B-PER (label id: 5)     0.7761    0.8814    0.8254        59\n",
      "     B-TIME (label id: 6)     0.9318    0.8913    0.9111        46\n",
      "      I-GPE (label id: 7)     1.0000    1.0000    1.0000         4\n",
      "      I-LOC (label id: 8)     0.8571    0.6667    0.7500         9\n",
      "     I-ORG (label id: 10)     0.8611    0.6596    0.7470        47\n",
      "     I-PER (label id: 11)     0.8868    0.8393    0.8624        56\n",
      "    I-TIME (label id: 12)     0.8333    0.7692    0.8000        13\n",
      "    \n",
      "                 accuracy                         0.9651      2209\n",
      "                macro avg     0.9014    0.8632    0.8787      2209\n",
      "             weighted avg     0.9646    0.9651    0.9641      2209\n",
      "    \n"
     ]
    },
    {
     "data": {
      "image/png": "[encoded data removed]",
      "text/plain": [
       "<Figure size 640x480 with 2 Axes>"
      ]
     },
     "metadata": {},
     "output_type": "display_data"
    }
   ],
   "source": [
    "# evaluate model performance on sample\n",
    "pretrained_ner_model.evaluate_from_file(\n",
    "    text_file=os.path.join(DATA_DIR, 'sample_text_dev.txt'),\n",
    "    labels_file=os.path.join(DATA_DIR, 'sample_labels_dev.txt'),\n",
    "    output_dir=WORK_DIR,\n",
    "    add_confusion_matrix=True,\n",
    "    normalize_confusion_matrix=True,\n",
    "    batch_size=1\n",
    ")"
   ]
  },
  {
   "cell_type": "code",
   "execution_count": 13,
   "id": "60d40b5f",
   "metadata": {},
   "outputs": [
    {
     "data": {
      "text/plain": [
       "{'status': 'ok', 'restart': True}"
      ]
     },
     "execution_count": 13,
     "metadata": {},
     "output_type": "execute_result"
    }
   ],
   "source": [
    "# restart the kernel\n",
    "import IPython\n",
    "\n",
    "app = IPython.Application.instance()\n",
    "app.kernel.do_shutdown(True)"
   ]
  },
  {
   "cell_type": "markdown",
   "id": "5783fb57",
   "metadata": {},
   "source": [
    "**Well Done!** When you're ready, let's move to the [next notebook](./02_domain-specific_token_classification_model.ipynb)."
   ]
  },
  {
   "cell_type": "markdown",
   "id": "8ac38cc5",
   "metadata": {},
   "source": [
    "![DLI Header](images/DLI_Header.png)"
   ]
  }
 ],
 "metadata": {
  "kernelspec": {
   "display_name": "Python 3 (ipykernel)",
   "language": "python",
   "name": "python3"
  },
  "language_info": {
   "codemirror_mode": {
    "name": "ipython",
    "version": 3
   },
   "file_extension": ".py",
   "mimetype": "text/x-python",
   "name": "python",
   "nbconvert_exporter": "python",
   "pygments_lexer": "ipython3",
   "version": "3.10.6"
  }
 },
 "nbformat": 4,
 "nbformat_minor": 5
}
